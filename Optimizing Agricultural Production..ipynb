{
 "cells": [
  {
   "cell_type": "code",
   "execution_count": 16,
   "id": "e70cdf9a",
   "metadata": {},
   "outputs": [],
   "source": [
    "#for manipulation\n",
    "import numpy as np\n",
    "import pandas as pd\n",
    "\n",
    "#for data visualization \n",
    "import matplotlib.pyplot as plt\n",
    "import seaborn as sns\n",
    "\n",
    "#for interactivity\n",
    "from ipywidgets import interact\n"
   ]
  },
  {
   "cell_type": "code",
   "execution_count": 17,
   "id": "1c7d97f9",
   "metadata": {},
   "outputs": [
    {
     "data": {
      "text/html": [
       "<div>\n",
       "<style scoped>\n",
       "    .dataframe tbody tr th:only-of-type {\n",
       "        vertical-align: middle;\n",
       "    }\n",
       "\n",
       "    .dataframe tbody tr th {\n",
       "        vertical-align: top;\n",
       "    }\n",
       "\n",
       "    .dataframe thead th {\n",
       "        text-align: right;\n",
       "    }\n",
       "</style>\n",
       "<table border=\"1\" class=\"dataframe\">\n",
       "  <thead>\n",
       "    <tr style=\"text-align: right;\">\n",
       "      <th></th>\n",
       "      <th>N</th>\n",
       "      <th>P</th>\n",
       "      <th>K</th>\n",
       "      <th>temperature</th>\n",
       "      <th>humidity</th>\n",
       "      <th>ph</th>\n",
       "      <th>rainfall</th>\n",
       "      <th>label</th>\n",
       "    </tr>\n",
       "  </thead>\n",
       "  <tbody>\n",
       "    <tr>\n",
       "      <th>0</th>\n",
       "      <td>90</td>\n",
       "      <td>42</td>\n",
       "      <td>43</td>\n",
       "      <td>20.879744</td>\n",
       "      <td>82.002744</td>\n",
       "      <td>6.502985</td>\n",
       "      <td>202.935536</td>\n",
       "      <td>rice</td>\n",
       "    </tr>\n",
       "    <tr>\n",
       "      <th>1</th>\n",
       "      <td>85</td>\n",
       "      <td>58</td>\n",
       "      <td>41</td>\n",
       "      <td>21.770462</td>\n",
       "      <td>80.319644</td>\n",
       "      <td>7.038096</td>\n",
       "      <td>226.655537</td>\n",
       "      <td>rice</td>\n",
       "    </tr>\n",
       "    <tr>\n",
       "      <th>2</th>\n",
       "      <td>60</td>\n",
       "      <td>55</td>\n",
       "      <td>44</td>\n",
       "      <td>23.004459</td>\n",
       "      <td>82.320763</td>\n",
       "      <td>7.840207</td>\n",
       "      <td>263.964248</td>\n",
       "      <td>rice</td>\n",
       "    </tr>\n",
       "    <tr>\n",
       "      <th>3</th>\n",
       "      <td>74</td>\n",
       "      <td>35</td>\n",
       "      <td>40</td>\n",
       "      <td>26.491096</td>\n",
       "      <td>80.158363</td>\n",
       "      <td>6.980401</td>\n",
       "      <td>242.864034</td>\n",
       "      <td>rice</td>\n",
       "    </tr>\n",
       "    <tr>\n",
       "      <th>4</th>\n",
       "      <td>78</td>\n",
       "      <td>42</td>\n",
       "      <td>42</td>\n",
       "      <td>20.130175</td>\n",
       "      <td>81.604873</td>\n",
       "      <td>7.628473</td>\n",
       "      <td>262.717340</td>\n",
       "      <td>rice</td>\n",
       "    </tr>\n",
       "  </tbody>\n",
       "</table>\n",
       "</div>"
      ],
      "text/plain": [
       "    N   P   K  temperature   humidity        ph    rainfall label\n",
       "0  90  42  43    20.879744  82.002744  6.502985  202.935536  rice\n",
       "1  85  58  41    21.770462  80.319644  7.038096  226.655537  rice\n",
       "2  60  55  44    23.004459  82.320763  7.840207  263.964248  rice\n",
       "3  74  35  40    26.491096  80.158363  6.980401  242.864034  rice\n",
       "4  78  42  42    20.130175  81.604873  7.628473  262.717340  rice"
      ]
     },
     "execution_count": 17,
     "metadata": {},
     "output_type": "execute_result"
    }
   ],
   "source": [
    "#lets read the dataset\n",
    "data = pd.read_csv('data.csv')\n",
    "data.head()"
   ]
  },
  {
   "cell_type": "code",
   "execution_count": 18,
   "id": "03c0ee1a",
   "metadata": {},
   "outputs": [
    {
     "name": "stdout",
     "output_type": "stream",
     "text": [
      "Shape of the dataset:  (2200, 8)\n"
     ]
    }
   ],
   "source": [
    "#lets check the shape of dataset\n",
    "print('Shape of the dataset: ', data.shape)"
   ]
  },
  {
   "cell_type": "code",
   "execution_count": 19,
   "id": "46a29f46",
   "metadata": {},
   "outputs": [
    {
     "data": {
      "text/html": [
       "<div>\n",
       "<style scoped>\n",
       "    .dataframe tbody tr th:only-of-type {\n",
       "        vertical-align: middle;\n",
       "    }\n",
       "\n",
       "    .dataframe tbody tr th {\n",
       "        vertical-align: top;\n",
       "    }\n",
       "\n",
       "    .dataframe thead th {\n",
       "        text-align: right;\n",
       "    }\n",
       "</style>\n",
       "<table border=\"1\" class=\"dataframe\">\n",
       "  <thead>\n",
       "    <tr style=\"text-align: right;\">\n",
       "      <th></th>\n",
       "      <th>N</th>\n",
       "      <th>P</th>\n",
       "      <th>K</th>\n",
       "      <th>temperature</th>\n",
       "      <th>humidity</th>\n",
       "      <th>ph</th>\n",
       "      <th>rainfall</th>\n",
       "      <th>label</th>\n",
       "    </tr>\n",
       "  </thead>\n",
       "  <tbody>\n",
       "    <tr>\n",
       "      <th>0</th>\n",
       "      <td>90</td>\n",
       "      <td>42</td>\n",
       "      <td>43</td>\n",
       "      <td>20.879744</td>\n",
       "      <td>82.002744</td>\n",
       "      <td>6.502985</td>\n",
       "      <td>202.935536</td>\n",
       "      <td>rice</td>\n",
       "    </tr>\n",
       "    <tr>\n",
       "      <th>1</th>\n",
       "      <td>85</td>\n",
       "      <td>58</td>\n",
       "      <td>41</td>\n",
       "      <td>21.770462</td>\n",
       "      <td>80.319644</td>\n",
       "      <td>7.038096</td>\n",
       "      <td>226.655537</td>\n",
       "      <td>rice</td>\n",
       "    </tr>\n",
       "    <tr>\n",
       "      <th>2</th>\n",
       "      <td>60</td>\n",
       "      <td>55</td>\n",
       "      <td>44</td>\n",
       "      <td>23.004459</td>\n",
       "      <td>82.320763</td>\n",
       "      <td>7.840207</td>\n",
       "      <td>263.964248</td>\n",
       "      <td>rice</td>\n",
       "    </tr>\n",
       "    <tr>\n",
       "      <th>3</th>\n",
       "      <td>74</td>\n",
       "      <td>35</td>\n",
       "      <td>40</td>\n",
       "      <td>26.491096</td>\n",
       "      <td>80.158363</td>\n",
       "      <td>6.980401</td>\n",
       "      <td>242.864034</td>\n",
       "      <td>rice</td>\n",
       "    </tr>\n",
       "    <tr>\n",
       "      <th>4</th>\n",
       "      <td>78</td>\n",
       "      <td>42</td>\n",
       "      <td>42</td>\n",
       "      <td>20.130175</td>\n",
       "      <td>81.604873</td>\n",
       "      <td>7.628473</td>\n",
       "      <td>262.717340</td>\n",
       "      <td>rice</td>\n",
       "    </tr>\n",
       "  </tbody>\n",
       "</table>\n",
       "</div>"
      ],
      "text/plain": [
       "    N   P   K  temperature   humidity        ph    rainfall label\n",
       "0  90  42  43    20.879744  82.002744  6.502985  202.935536  rice\n",
       "1  85  58  41    21.770462  80.319644  7.038096  226.655537  rice\n",
       "2  60  55  44    23.004459  82.320763  7.840207  263.964248  rice\n",
       "3  74  35  40    26.491096  80.158363  6.980401  242.864034  rice\n",
       "4  78  42  42    20.130175  81.604873  7.628473  262.717340  rice"
      ]
     },
     "execution_count": 19,
     "metadata": {},
     "output_type": "execute_result"
    }
   ],
   "source": [
    "#let's check the head of the dataset\n",
    "data.head()"
   ]
  },
  {
   "cell_type": "code",
   "execution_count": 20,
   "id": "85551848",
   "metadata": {},
   "outputs": [
    {
     "data": {
      "text/plain": [
       "N              0\n",
       "P              0\n",
       "K              0\n",
       "temperature    0\n",
       "humidity       0\n",
       "ph             0\n",
       "rainfall       0\n",
       "label          0\n",
       "dtype: int64"
      ]
     },
     "execution_count": 20,
     "metadata": {},
     "output_type": "execute_result"
    }
   ],
   "source": [
    "#lets check if there is any missing value in dataset\n",
    "data.isnull().sum()"
   ]
  },
  {
   "cell_type": "code",
   "execution_count": 21,
   "id": "bf593a07",
   "metadata": {},
   "outputs": [
    {
     "data": {
      "text/plain": [
       "rice           100\n",
       "maize          100\n",
       "jute           100\n",
       "cotton         100\n",
       "coconut        100\n",
       "papaya         100\n",
       "orange         100\n",
       "apple          100\n",
       "muskmelon      100\n",
       "watermelon     100\n",
       "grapes         100\n",
       "mango          100\n",
       "banana         100\n",
       "pomegranate    100\n",
       "lentil         100\n",
       "blackgram      100\n",
       "mungbean       100\n",
       "mothbeans      100\n",
       "pigeonpeas     100\n",
       "kidneybeans    100\n",
       "chickpea       100\n",
       "coffee         100\n",
       "Name: label, dtype: int64"
      ]
     },
     "execution_count": 21,
     "metadata": {},
     "output_type": "execute_result"
    }
   ],
   "source": [
    "#lets check the Crops present in dataset\n",
    "data['label'].value_counts()"
   ]
  },
  {
   "cell_type": "code",
   "execution_count": 22,
   "id": "95171c87",
   "metadata": {},
   "outputs": [
    {
     "name": "stdout",
     "output_type": "stream",
     "text": [
      "Average ratio of Nitrogen in the Soil:  50.551818\n",
      "Average ratio of Phosphorous in the Soil:  53.362727\n",
      "Average ratio of Potassium in the Soil:  48.149091\n",
      "Average Temperature in Celcius:  25.616244\n",
      "Average ratio of Humidity in %:  71.481779\n",
      "Average PH Value of the Soil:  6.469480\n",
      "Average Rainfall in mm:  103.463655\n"
     ]
    }
   ],
   "source": [
    "#lets check the sumamry of all the crops\n",
    "\n",
    "print('Average ratio of Nitrogen in the Soil:  {0:2f}'.format (data['N'].mean()))\n",
    "print('Average ratio of Phosphorous in the Soil:  {0:2f}'.format (data['P'].mean()))\n",
    "print('Average ratio of Potassium in the Soil:  {0:2f}'.format (data['K'].mean()))\n",
    "print('Average Temperature in Celcius:  {0:2f}'.format (data['temperature'].mean()))\n",
    "print('Average ratio of Humidity in %:  {0:2f}'.format (data['humidity'].mean()))\n",
    "print('Average PH Value of the Soil:  {0:2f}'.format (data['ph'].mean()))\n",
    "print('Average Rainfall in mm:  {0:2f}'.format (data['rainfall'].mean()))"
   ]
  },
  {
   "cell_type": "code",
   "execution_count": 23,
   "id": "37e5bfd6",
   "metadata": {},
   "outputs": [
    {
     "data": {
      "application/vnd.jupyter.widget-view+json": {
       "model_id": "f103b08039cc42ebb9205fc9c380e993",
       "version_major": 2,
       "version_minor": 0
      },
      "text/plain": [
       "interactive(children=(Dropdown(description='crops', options=('rice', 'maize', 'jute', 'cotton', 'coconut', 'pa…"
      ]
     },
     "metadata": {},
     "output_type": "display_data"
    }
   ],
   "source": [
    "#lets check the summary statistics for each of the crops\n",
    "\n",
    "@interact\n",
    "def summary(crops = list(data['label'].value_counts().index)):\n",
    "    x = data[data['label'] == crops]\n",
    "    \n",
    "    print('--------------------------------------------------')\n",
    "    \n",
    "    print('Statistics for Nitrogen')\n",
    "    print('Minimum Nitrogen Required: ', x['N'].min())\n",
    "    print('Average Nitrogen required: ', x['N'].mean())\n",
    "    print('Maximum Nitrogen required: ', x['N'].max())\n",
    "    \n",
    "    print('--------------------------------------------------')\n",
    "    \n",
    "    print('Statistics for Phosphorous')\n",
    "    print('Minimum Phosphorous Required: ', x['P'].min())\n",
    "    print('Average Phosphorous required: ', x['P'].mean())\n",
    "    print('Maximum Phosphorous required: ', x['P'].max())\n",
    "    \n",
    "    print('--------------------------------------------------')\n",
    "    \n",
    "    print('Statistics for Potassium')\n",
    "    print('Minimum Potassium Required: ', x['K'].min())\n",
    "    print('Average Potassium required: ', x['K'].mean())\n",
    "    print('Maximum Potassium required: ', x['K'].max())\n",
    "    \n",
    "    print('--------------------------------------------------')\n",
    "\n",
    "    print('Statistics for Temperature')\n",
    "    print('Minimum Temperature Required: {0:.2f}'.format( x['temperature'].min()))\n",
    "    print('Average Temperature Required: {0:.2f}'.format( x['temperature'].mean()))\n",
    "    print('Maximum Temperature Required: {0:.2f}'.format( x['temperature'].max()))\n",
    "    \n",
    "    print('--------------------------------------------------')\n",
    "    \n",
    "    print('Statistics for Humidity')\n",
    "    print('Minimum Humidity Required: {0:.2f}'.format( x['humidity'].min()))\n",
    "    print('Average Humidity Required: {0:.2f}'.format( x['humidity'].mean()))\n",
    "    print('Maximum Humidity Required: {0:.2f}'.format( x['humidity'].max()))\n",
    "    \n",
    "    print('--------------------------------------------------')\n",
    "    \n",
    "    print('Statistics for PH')\n",
    "    print('Minimum PH  Required: {0:.2f}'.format( x['ph'].min()))\n",
    "    print('Average PH Required: {0:.2f}'.format( x['ph'].mean()))\n",
    "    print('Maximum PH Required: {0:.2f}'.format( x['ph'].max()))\n",
    "    \n",
    "    print('--------------------------------------------------')\n",
    "    \n",
    "    print('Statistics for Rainfall')\n",
    "    print('Minimum Rainfall Required: {0:.2f}'.format( x['rainfall'].min()))\n",
    "    print('Average Rainfall Required: {0:.2f}'.format( x['rainfall'].mean()))\n",
    "    print('Maximum Rainfall Required: {0:.2f}'.format( x['rainfall'].max()))\n",
    "    \n",
    "    print('--------------------------------------------------')"
   ]
  },
  {
   "cell_type": "code",
   "execution_count": 24,
   "id": "6e1b3cd1",
   "metadata": {},
   "outputs": [
    {
     "data": {
      "application/vnd.jupyter.widget-view+json": {
       "model_id": "8edc40ee097a41f286e6147c6b3e7fed",
       "version_major": 2,
       "version_minor": 0
      },
      "text/plain": [
       "interactive(children=(Dropdown(description='conditions', options=('N', 'P', 'K', 'temperature', 'humidity', 'p…"
      ]
     },
     "metadata": {},
     "output_type": "display_data"
    }
   ],
   "source": [
    "#Lets compare the Average Requirement for each crops with Average conditions\n",
    "\n",
    "@interact\n",
    "def compare (conditions = ['N','P','K','temperature','humidity','ph','rainfall']):\n",
    "    print('Average Value for ',conditions,'is {0:.2f}'.format(data[conditions].mean()))\n",
    "    print('--------------------------------------------------------------------------')\n",
    "    print('Rice: {0:.2f}'.format(data[(data['label'] == 'rice')][conditions].mean()))\n",
    "    print('Black Grams: {0:.2f}'.format(data[(data['label'] == 'blackgram')][conditions].mean()))\n",
    "    print('Banana: {0:.2f}'.format(data[(data['label'] == 'banana')][conditions].mean()))\n",
    "    print('Jute: {0:.2f}'.format(data[(data['label'] == 'jute')][conditions].mean()))\n",
    "    print('Coconut: {0:.2f}'.format(data[(data['label'] == 'coconut')][conditions].mean()))\n",
    "    print('Apple: {0:.2f}'.format(data[(data['label'] == 'apple')][conditions].mean()))\n",
    "    print('Papaya: {0:.2f}'.format(data[(data['label'] == 'papaya')][conditions].mean()))\n",
    "    print('Muskmelon: {0:.2f}'.format(data[(data['label'] == 'Muskmelon')][conditions].mean()))\n",
    "    print('Grapes: {0:.2f}'.format(data[(data['label'] == 'grapes')][conditions].mean()))\n",
    "    print('Watermelon: {0:.2f}'.format(data[(data['label'] == 'watermelon')][conditions].mean()))\n",
    "    print('Kidney Beans: {0:.2f}'.format(data[(data['label'] == 'kidneybeans')][conditions].mean()))\n",
    "    print('Mung Beans: {0:.2f}'.format(data[(data['label'] == 'mungbean')][conditions].mean()))\n",
    "    print('Oranges: {0:.2f}'.format(data[(data['label'] == 'oranges')][conditions].mean()))\n",
    "    print('Chick Peas: {0:.2f}'.format(data[(data['label'] == 'chickpea')][conditions].mean()))\n",
    "    print('Lentil: {0:.2f}'.format(data[(data['label'] == 'lentil')][conditions].mean()))\n",
    "    print('Cotton: {0:.2f}'.format(data[(data['label'] == 'cotton')][conditions].mean()))\n",
    "    print('Maize: {0:.2f}'.format(data[(data['label'] == 'maize')][conditions].mean()))\n",
    "    print('Moth Beans: {0:.2f}'.format(data[(data['label'] == 'mothbeans')][conditions].mean()))\n",
    "    print('Pigeon Beans: {0:.2f}'.format(data[(data['label'] == 'pigeonpeas')][conditions].mean()))\n",
    "    print('Mango: {0:.2f}'.format(data[(data['label'] == 'mango')][conditions].mean()))\n",
    "    print('pomegranate: {0:.2f}'.format(data[(data['label'] == 'pomegranate')][conditions].mean()))\n",
    "    print('Coffee: {0:.2f}'.format(data[(data['label'] == 'coffee')][conditions].mean()))\n",
    "    print('----------------------------------------------------------------------------')"
   ]
  },
  {
   "cell_type": "code",
   "execution_count": 25,
   "id": "5067ae95",
   "metadata": {},
   "outputs": [
    {
     "data": {
      "application/vnd.jupyter.widget-view+json": {
       "model_id": "7b3debbb71ff497bb88206b144c1667c",
       "version_major": 2,
       "version_minor": 0
      },
      "text/plain": [
       "interactive(children=(Dropdown(description='conditions', options=('N', 'P', 'K', 'temperature', 'humidity', 'p…"
      ]
     },
     "metadata": {},
     "output_type": "display_data"
    }
   ],
   "source": [
    "#Lets make this function more intuitive\n",
    "\n",
    "@interact\n",
    "def compare(conditions = ['N','P','K','temperature','humidity','ph','rainfall']):\n",
    "    print('Crops which require greater than average',conditions,'\\n')\n",
    "    print(data[data[conditions] > data[conditions].mean()]['label'].unique())\n",
    "    print('-----------------------------------------------------------------')\n",
    "    print('Crops which require less than average',conditions,'\\n')\n",
    "    print(data[data[conditions] <=data[conditions].mean()]['label'].unique())"
   ]
  },
  {
   "cell_type": "code",
   "execution_count": 26,
   "id": "d2dc5443",
   "metadata": {},
   "outputs": [
    {
     "data": {
      "image/png": "[encoded data removed]",
      "text/plain": [
       "<Figure size 432x288 with 1 Axes>"
      ]
     },
     "metadata": {
      "needs_background": "light"
     },
     "output_type": "display_data"
    },
    {
     "data": {
      "image/png": "[encoded data removed]",
      "text/plain": [
       "<Figure size 360x360 with 1 Axes>"
      ]
     },
     "metadata": {
      "needs_background": "light"
     },
     "output_type": "display_data"
    },
    {
     "data": {
      "image/png": "[encoded data removed]",
      "text/plain": [
       "<Figure size 360x360 with 1 Axes>"
      ]
     },
     "metadata": {
      "needs_background": "light"
     },
     "output_type": "display_data"
    },
    {
     "data": {
      "image/png": "[encoded data removed]",
      "text/plain": [
       "<Figure size 360x360 with 1 Axes>"
      ]
     },
     "metadata": {
      "needs_background": "light"
     },
     "output_type": "display_data"
    },
    {
     "data": {
      "image/png": "[encoded data removed]",
      "text/plain": [
       "<Figure size 360x360 with 1 Axes>"
      ]
     },
     "metadata": {
      "needs_background": "light"
     },
     "output_type": "display_data"
    },
    {
     "data": {
      "image/png": "[encoded data removed]",
      "text/plain": [
       "<Figure size 360x360 with 1 Axes>"
      ]
     },
     "metadata": {
      "needs_background": "light"
     },
     "output_type": "display_data"
    },
    {
     "data": {
      "image/png": "[encoded data removed]",
      "text/plain": [
       "<Figure size 360x360 with 1 Axes>"
      ]
     },
     "metadata": {
      "needs_background": "light"
     },
     "output_type": "display_data"
    },
    {
     "data": {
      "image/png": "[encoded data removed]",
      "text/plain": [
       "<Figure size 360x360 with 1 Axes>"
      ]
     },
     "metadata": {
      "needs_background": "light"
     },
     "output_type": "display_data"
    }
   ],
   "source": [
    "#plot\n",
    "\n",
    "plt.subplot(2,4,1)\n",
    "sns.displot(data['N'],color = 'red')\n",
    "plt.xlabel('Ratio of Nitrogen', fontsize = 12)\n",
    "plt.grid()\n",
    "\n",
    "plt.subplot(2,4,2)\n",
    "sns.displot(data['P'],color = 'blue')\n",
    "plt.xlabel('Ratio of Phosphorous', fontsize = 12)\n",
    "plt.grid()\n",
    "\n",
    "plt.subplot(2,4,3)\n",
    "sns.displot(data['K'],color = 'darkblue')\n",
    "plt.xlabel('Ratio of Potassium', fontsize = 12)\n",
    "plt.grid()\n",
    "\n",
    "plt.subplot(2,4,4)\n",
    "sns.displot(data['temperature'],color = 'black')\n",
    "plt.xlabel('Temperature', fontsize = 12)\n",
    "plt.grid()\n",
    "\n",
    "plt.subplot(2,4,5)\n",
    "sns.displot(data['humidity'],color = 'grey')\n",
    "plt.xlabel('Humidity', fontsize = 12)\n",
    "plt.grid()\n",
    "\n",
    "plt.subplot(2,4,6)\n",
    "sns.displot(data['ph'],color = 'lightgreen')\n",
    "plt.xlabel('ph', fontsize = 12)\n",
    "plt.grid()\n",
    "\n",
    "plt.subplot(2,4,7)\n",
    "sns.displot(data['rainfall'],color = 'darkgreen')\n",
    "plt.xlabel('Rainfall', fontsize = 12)\n",
    "plt.grid()\n",
    "\n",
    "plt.suptitle('Distributions for Agricultural Conditions',fontsize = 20)\n",
    "plt.show()"
   ]
  },
  {
   "cell_type": "code",
   "execution_count": 27,
   "id": "6650824f",
   "metadata": {},
   "outputs": [
    {
     "name": "stdout",
     "output_type": "stream",
     "text": [
      "Some Intresting Patterns\n",
      "------------------------------------------------------------------------------\n",
      "Crops which requires very High Ratio of Nitrogen content in the Soil:  ['cotton']\n",
      "Crops which requires very High Ratio of Phosphorous content in the Soil:  ['grapes' 'apple']\n",
      "Crops which requires very High Ratio of Potassium content in the Soil:  ['grapes' 'apple']\n",
      "Crops which requires very High Rainfall:  ['rice' 'papaya' 'coconut']\n",
      "Crops which requires very Low Temperature:  ['grapes']\n",
      "Crops which requires very High Temperature:  ['grapes' 'papaya']\n",
      "Crops which requires very Low Humidity:  ['chickpea' 'kidneybeans']\n",
      "Crops which requires very Low PH:  ['mothbeans']\n",
      "Crops which requires very High PH:  ['mothbeans']\n"
     ]
    }
   ],
   "source": [
    "#Lets find out some Intresting Facts\n",
    "\n",
    "print('Some Intresting Patterns')\n",
    "print('------------------------------------------------------------------------------')\n",
    "print('Crops which requires very High Ratio of Nitrogen content in the Soil: ',data[data['N']>120]['label'].unique())\n",
    "print('Crops which requires very High Ratio of Phosphorous content in the Soil: ',data[data['P']>100]['label'].unique())\n",
    "print('Crops which requires very High Ratio of Potassium content in the Soil: ',data[data['K']>200]['label'].unique())\n",
    "print('Crops which requires very High Rainfall: ',data[data['rainfall']>200]['label'].unique())\n",
    "print('Crops which requires very Low Temperature: ',data[data['temperature']<10]['label'].unique())\n",
    "print('Crops which requires very High Temperature: ',data[data['temperature']>40]['label'].unique())\n",
    "print('Crops which requires very Low Humidity: ',data[data['humidity']<20]['label'].unique())\n",
    "print('Crops which requires very Low PH: ',data[data['ph']<4]['label'].unique())\n",
    "print('Crops which requires very High PH: ',data[data['ph']>9]['label'].unique())"
   ]
  },
  {
   "cell_type": "code",
   "execution_count": 32,
   "id": "67fc5553",
   "metadata": {},
   "outputs": [
    {
     "name": "stdout",
     "output_type": "stream",
     "text": [
      "Summer Crops\n",
      "['pigeonpeas' 'mothbeans' 'blackgram' 'mango' 'grapes' 'orange' 'papaya']\n",
      "---------------------------------------------------------------------------------------------------------\n",
      "Winter Crops\n",
      "['maize' 'pigeonpeas' 'lentil' 'pomegranate' 'grapes' 'orange']\n",
      "---------------------------------------------------------------------------------------------------------\n",
      "Rainy Crops\n",
      "['rice' 'papaya' 'coconut']\n",
      "---------------------------------------------------------------------------------------------------------\n"
     ]
    }
   ],
   "source": [
    "#lets understand which crop can only be grow in Summer Season, Winter Season and Rainy Season\n",
    "\n",
    "print('Summer Crops')\n",
    "print(data[(data['temperature']>30) & (data['humidity']>50)]['label'].unique())\n",
    "print('---------------------------------------------------------------------------------------------------------')\n",
    "print('Winter Crops')\n",
    "print(data[(data['temperature']<20) & (data['humidity']>30)]['label'].unique())\n",
    "print('---------------------------------------------------------------------------------------------------------')\n",
    "print('Rainy Crops')\n",
    "print(data[(data['rainfall']>200) & (data['humidity']>30)]['label'].unique())\n",
    "print('---------------------------------------------------------------------------------------------------------')"
   ]
  },
  {
   "cell_type": "code",
   "execution_count": 33,
   "id": "ae37041d",
   "metadata": {},
   "outputs": [
    {
     "name": "stdout",
     "output_type": "stream",
     "text": [
      "(2200, 7)\n"
     ]
    }
   ],
   "source": [
    "from sklearn.cluster import KMeans\n",
    "\n",
    "#removing the label column\n",
    "x = data.drop(['label'],axis = 1)\n",
    "\n",
    "#selecting all the values of the data\n",
    "x = x.values\n",
    "\n",
    "#checking the shape\n",
    "print(x.shape)"
   ]
  },
  {
   "cell_type": "code",
   "execution_count": 35,
   "id": "f6174eba",
   "metadata": {},
   "outputs": [
    {
     "data": {
      "image/png": "[encoded data removed]",
      "text/plain": [
       "<Figure size 720x288 with 1 Axes>"
      ]
     },
     "metadata": {
      "needs_background": "light"
     },
     "output_type": "display_data"
    }
   ],
   "source": [
    "#Lets determine the optimum number of clusters within the dataset\n",
    "plt.rcParams['figure.figsize'] = (10,4)\n",
    "\n",
    "wcss = []\n",
    "for i in range(1,11):\n",
    "    km = KMeans(n_clusters = i, init = 'k-means++', max_iter = 300, n_init = 10, random_state = 0)\n",
    "    km.fit(x)\n",
    "    wcss.append(km.inertia_)\n",
    "    \n",
    "#Lets plot the results\n",
    "plt.plot(range(1,11), wcss)\n",
    "plt.title('The Elbow Method', fontsize = 20)\n",
    "plt.xlabel('No. of Clusters')\n",
    "plt.ylabel('wcss')\n",
    "plt.show()"
   ]
  },
  {
   "cell_type": "code",
   "execution_count": 45,
   "id": "e660ae40",
   "metadata": {},
   "outputs": [
    {
     "name": "stdout",
     "output_type": "stream",
     "text": [
      "Lets check the results After Applying the kMeans Clustering Analysis \n",
      "\n",
      "Crops in the First Cluster: ['maize' 'chickpea' 'kidneybeans' 'pigeonpeas' 'mothbeans' 'mungbean'\n",
      " 'blackgram' 'lentil' 'pomegranate' 'mango' 'orange' 'papaya' 'coconut']\n",
      "----------------------------------------------------------------------------------------------------------\n",
      "Crops in the Second Cluster: ['maize' 'banana' 'watermelon' 'muskmelon' 'papaya' 'cotton' 'coffee']\n",
      "----------------------------------------------------------------------------------------------------------\n",
      "Crops in the Third Cluster: ['grapes' 'apple']\n",
      "----------------------------------------------------------------------------------------------------------\n",
      "Crops in the Forth Cluster: ['rice' 'pigeonpeas' 'papaya' 'coconut' 'jute' 'coffee']\n",
      "----------------------------------------------------------------------------------------------------------\n"
     ]
    }
   ],
   "source": [
    "#Lets implement the KMeans algorithm to perform Clustering analysis\n",
    "km = KMeans(n_clusters = 4, init = 'k-means++', max_iter = 300, n_init = 10, random_state = 0)\n",
    "y_means = km.fit_predict(x)\n",
    "\n",
    "#Lets find out the results\n",
    "a = data['label']\n",
    "y_means = pd.DataFrame(y_means)\n",
    "z = pd.concat([y_means,a], axis=1)\n",
    "z = z.rename(columns = {0: 'cluster'})\n",
    "\n",
    "#Lets check the cluster for each crop\n",
    "print('Lets check the results After Applying the kMeans Clustering Analysis \\n')\n",
    "print('Crops in the First Cluster:', z[z['cluster'] == 0]['label'].unique())\n",
    "print('----------------------------------------------------------------------------------------------------------')\n",
    "print('Crops in the Second Cluster:', z[z['cluster'] == 1]['label'].unique())\n",
    "print('----------------------------------------------------------------------------------------------------------')\n",
    "print('Crops in the Third Cluster:', z[z['cluster'] == 2]['label'].unique())\n",
    "print('----------------------------------------------------------------------------------------------------------')\n",
    "print('Crops in the Forth Cluster:', z[z['cluster'] == 3]['label'].unique())\n",
    "print('----------------------------------------------------------------------------------------------------------')"
   ]
  },
  {
   "cell_type": "code",
   "execution_count": 46,
   "id": "1c23cd46",
   "metadata": {},
   "outputs": [
    {
     "name": "stdout",
     "output_type": "stream",
     "text": [
      "Shape of x (2200, 7)\n",
      "Shape of y (2200,)\n"
     ]
    }
   ],
   "source": [
    "#lets split the dataset for Predictive Modelling\n",
    "y = data['label']\n",
    "x = data.drop(['label'], axis=1)\n",
    "\n",
    "print('Shape of x', x.shape)\n",
    "print('Shape of y', y.shape)"
   ]
  },
  {
   "cell_type": "code",
   "execution_count": 48,
   "id": "da3898c4",
   "metadata": {},
   "outputs": [
    {
     "name": "stdout",
     "output_type": "stream",
     "text": [
      "The shape of x train:  (1760, 7)\n",
      "The shape of x test:  (440, 7)\n",
      "The shape of y train:  (1760,)\n",
      "The shape of y test:  (440,)\n"
     ]
    }
   ],
   "source": [
    "#lets create the training and testing sets for validation of results\n",
    "from sklearn.model_selection import train_test_split\n",
    "\n",
    "x_train, x_test, y_train, y_test = train_test_split(x, y, test_size = 0.2, random_state = 0)\n",
    "\n",
    "print('The shape of x train: ', x_train.shape)\n",
    "print('The shape of x test: ', x_test.shape)\n",
    "print('The shape of y train: ', y_train.shape)\n",
    "print('The shape of y test: ', y_test.shape)"
   ]
  },
  {
   "cell_type": "code",
   "execution_count": 50,
   "id": "196097c5",
   "metadata": {},
   "outputs": [
    {
     "name": "stderr",
     "output_type": "stream",
     "text": [
      "/usr/lib/python3.9/site-packages/sklearn/linear_model/_logistic.py:814: ConvergenceWarning: lbfgs failed to converge (status=1):\n",
      "STOP: TOTAL NO. of ITERATIONS REACHED LIMIT.\n",
      "\n",
      "Increase the number of iterations (max_iter) or scale the data as shown in:\n",
      "    https://scikit-learn.org/stable/modules/preprocessing.html\n",
      "Please also refer to the documentation for alternative solver options:\n",
      "    https://scikit-learn.org/stable/modules/linear_model.html#logistic-regression\n",
      "  n_iter_i = _check_optimize_result(\n"
     ]
    }
   ],
   "source": [
    "#Lets create the Predictive model\n",
    "\n",
    "from sklearn.linear_model import LogisticRegression\n",
    "\n",
    "model = LogisticRegression()\n",
    "model.fit(x_train, y_train)\n",
    "y_pred = model.predict(x_test)"
   ]
  },
  {
   "cell_type": "code",
   "execution_count": 52,
   "id": "4286cfe2",
   "metadata": {},
   "outputs": [
    {
     "data": {
      "image/png": "[encoded data removed]",
      "text/plain": [
       "<Figure size 720x720 with 2 Axes>"
      ]
     },
     "metadata": {
      "needs_background": "light"
     },
     "output_type": "display_data"
    }
   ],
   "source": [
    "#Lets evaluate the Model Performance\n",
    "\n",
    "from sklearn.metrics import confusion_matrix\n",
    "\n",
    "#Lets print the confusion matrix first\n",
    "plt.rcParams['figure.figsize'] = (10,10)\n",
    "cm = confusion_matrix(y_test, y_pred)\n",
    "sns.heatmap(cm, annot=True, cmap = 'Wistia')\n",
    "plt.title('Confusion matrix For Logistic Regression', fontsize = 15)\n",
    "plt.show()"
   ]
  },
  {
   "cell_type": "code",
   "execution_count": 59,
   "id": "11880c8d",
   "metadata": {},
   "outputs": [
    {
     "name": "stdout",
     "output_type": "stream",
     "text": [
      "              precision    recall  f1-score   support\n",
      "\n",
      "       apple       1.00      1.00      1.00        18\n",
      "      banana       1.00      1.00      1.00        18\n",
      "   blackgram       0.86      0.82      0.84        22\n",
      "    chickpea       1.00      1.00      1.00        23\n",
      "     coconut       1.00      1.00      1.00        15\n",
      "      coffee       1.00      1.00      1.00        17\n",
      "      cotton       0.89      1.00      0.94        16\n",
      "      grapes       1.00      1.00      1.00        18\n",
      "        jute       0.84      1.00      0.91        21\n",
      " kidneybeans       1.00      1.00      1.00        20\n",
      "      lentil       0.94      0.94      0.94        17\n",
      "       maize       0.94      0.89      0.91        18\n",
      "       mango       1.00      1.00      1.00        21\n",
      "   mothbeans       0.88      0.92      0.90        25\n",
      "    mungbean       1.00      1.00      1.00        17\n",
      "   muskmelon       1.00      1.00      1.00        23\n",
      "      orange       1.00      1.00      1.00        23\n",
      "      papaya       1.00      0.95      0.98        21\n",
      "  pigeonpeas       1.00      1.00      1.00        22\n",
      " pomegranate       1.00      1.00      1.00        23\n",
      "        rice       1.00      0.84      0.91        25\n",
      "  watermelon       1.00      1.00      1.00        17\n",
      "\n",
      "    accuracy                           0.97       440\n",
      "   macro avg       0.97      0.97      0.97       440\n",
      "weighted avg       0.97      0.97      0.97       440\n",
      "\n"
     ]
    }
   ],
   "source": [
    "#lets print the classification report\n",
    "from sklearn.metrics import classification_report\n",
    "cr = classification_report(y_test, y_pred)\n",
    "print(cr)"
   ]
  },
  {
   "cell_type": "raw",
   "id": "49b77323",
   "metadata": {},
   "source": [
    "#lets check the head of the dataset\n",
    "data.head(5)"
   ]
  },
  {
   "cell_type": "code",
   "execution_count": 58,
   "id": "aeef5df1",
   "metadata": {},
   "outputs": [
    {
     "name": "stdout",
     "output_type": "stream",
     "text": [
      "The suggestion Crop for given Climatic Condition is:  ['rice']\n"
     ]
    },
    {
     "name": "stderr",
     "output_type": "stream",
     "text": [
      "/usr/lib/python3.9/site-packages/sklearn/base.py:441: UserWarning: X does not have valid feature names, but LogisticRegression was fitted with feature names\n",
      "  warnings.warn(\n"
     ]
    }
   ],
   "source": [
    "prediction = model.predict((np.array([[90,\n",
    "                                      40,\n",
    "                                      40,\n",
    "                                      20,\n",
    "                                      80,\n",
    "                                      7,\n",
    "                                      200]])))\n",
    "print('The suggestion Crop for given Climatic Condition is: ', prediction)"
   ]
  },
  {
   "cell_type": "code",
   "execution_count": null,
   "id": "9d708a60",
   "metadata": {},
   "outputs": [],
   "source": []
  }
 ],
 "metadata": {
  "kernelspec": {
   "display_name": "Python 3 (ipykernel)",
   "language": "python",
   "name": "python3"
  },
  "language_info": {
   "codemirror_mode": {
    "name": "ipython",
    "version": 3
   },
   "file_extension": ".py",
   "mimetype": "text/x-python",
   "name": "python",
   "nbconvert_exporter": "python",
   "pygments_lexer": "ipython3",
   "version": "3.9.7"
  }
 },
 "nbformat": 4,
 "nbformat_minor": 5
}
